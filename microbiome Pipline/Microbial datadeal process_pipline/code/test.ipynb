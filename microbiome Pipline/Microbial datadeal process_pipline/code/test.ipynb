{
 "cells": [
  {
   "cell_type": "code",
   "execution_count": null,
   "id": "d7be6ab8",
   "metadata": {},
   "outputs": [],
   "source": [
    "import pandas as pd"
   ]
  },
  {
   "cell_type": "code",
   "execution_count": null,
   "id": "9174d74e",
   "metadata": {},
   "outputs": [],
   "source": [
    "df = pd.DataFrame({'col_1':[1,2,3,4,5], 'col_2':[6,7,8,9,10], 'col_3':[11,12,13,14,15], 'col_4':[16,17,18,19,20]},index=['row_1','row_2','row_3','row_4','row_5'])"
   ]
  },
  {
   "cell_type": "code",
   "execution_count": null,
   "id": "024521fc",
   "metadata": {},
   "outputs": [],
   "source": [
    "df"
   ]
  },
  {
   "cell_type": "code",
   "execution_count": null,
   "id": "f9a9878f",
   "metadata": {},
   "outputs": [],
   "source": [
    "df_melt = pd.melt(df,id_vars=['col_1'],value_vars=['col_2','col_3','col_4'],var_name='col_name',value_name='col_value')"
   ]
  },
  {
   "cell_type": "code",
   "execution_count": null,
   "id": "e517116b",
   "metadata": {},
   "outputs": [],
   "source": [
    "df_melt"
   ]
  },
  {
   "cell_type": "code",
   "execution_count": null,
   "id": "cea3084e",
   "metadata": {},
   "outputs": [],
   "source": [
    "df_recovered = df_melt.pivot(index='col_1',columns='col_name',values='col_value')"
   ]
  },
  {
   "cell_type": "code",
   "execution_count": null,
   "id": "f175a88e",
   "metadata": {},
   "outputs": [],
   "source": [
    "df_recovered"
   ]
  }
 ],
 "metadata": {
  "kernelspec": {
   "display_name": "dl",
   "language": "python",
   "name": "python3"
  },
  "language_info": {
   "codemirror_mode": {
    "name": "ipython",
    "version": 3
   },
   "file_extension": ".py",
   "mimetype": "text/x-python",
   "name": "python",
   "nbconvert_exporter": "python",
   "pygments_lexer": "ipython3",
   "version": "3.12.3"
  }
 },
 "nbformat": 4,
 "nbformat_minor": 5
}
