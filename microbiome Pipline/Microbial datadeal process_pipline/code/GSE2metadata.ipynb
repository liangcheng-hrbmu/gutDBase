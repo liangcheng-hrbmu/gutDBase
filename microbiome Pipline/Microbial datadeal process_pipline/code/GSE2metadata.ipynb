{
 "cells": [
  {
   "cell_type": "code",
   "execution_count": null,
   "id": "initial_id",
   "metadata": {
    "ExecuteTime": {
     "end_time": "2025-04-25T12:06:07.345081300Z",
     "start_time": "2025-04-25T12:06:07.245769800Z"
    },
    "collapsed": true
   },
   "outputs": [],
   "source": [
    "from time import sleep\n",
    "from selenium import webdriver\n",
    "from selenium.webdriver.common.by import By\n",
    "from selenium.webdriver.chrome.options import Options\n",
    "from selenium.webdriver.chrome.service import Service\n",
    "import os\n",
    "import shutil"
   ]
  },
  {
   "cell_type": "code",
   "execution_count": null,
   "id": "415d151c",
   "metadata": {},
   "outputs": [],
   "source": [
    "import pandas as pd\n",
    "gse = pd.read_csv(R\"D:\\Project\\gutDBase\\SRR_Acc_List\\human\\GSE_PRJ_list.txt\", sep='\\t', index_col=None, header=None)"
   ]
  },
  {
   "cell_type": "code",
   "execution_count": null,
   "id": "262d070b",
   "metadata": {},
   "outputs": [],
   "source": [
    "gse"
   ]
  },
  {
   "cell_type": "code",
   "execution_count": null,
   "id": "1a4796b6",
   "metadata": {},
   "outputs": [],
   "source": [
    "gse[gse[gse.columns[2]] == 'Yes']"
   ]
  },
  {
   "cell_type": "code",
   "execution_count": null,
   "id": "7b453c68",
   "metadata": {},
   "outputs": [],
   "source": [
    "GSE_list = list(gse[gse[gse.columns[2]] == 'Yes'][gse.columns[0]][8:])"
   ]
  },
  {
   "cell_type": "code",
   "execution_count": null,
   "id": "6fca6f4a",
   "metadata": {},
   "outputs": [],
   "source": [
    "len(GSE_list)"
   ]
  },
  {
   "cell_type": "code",
   "execution_count": null,
   "id": "14130c5cd649683c",
   "metadata": {
    "ExecuteTime": {
     "end_time": "2025-04-25T12:06:07.350451900Z",
     "start_time": "2025-04-25T12:06:07.346944Z"
    },
    "collapsed": false
   },
   "outputs": [],
   "source": [
    "chromedriver_path = R\"D:\\Tool\\chromedriver.exe\"\n",
    "download_dir = R\"D:\\Project\\gutDBase\\metadata\\human\"\n",
    "os.makedirs(download_dir, exist_ok=True)\n",
    "\n",
    "service = Service(chromedriver_path)\n",
    "\n",
    "chrome_options = Options()\n",
    "prefs = {\n",
    "    \"download.default_directory\": download_dir,\n",
    "    \"download.prompt_for_download\": False,\n",
    "    \"download.directory_upgrade\": True\n",
    "}\n",
    "chrome_options.add_experimental_option(\"prefs\", prefs)"
   ]
  },
  {
   "cell_type": "code",
   "execution_count": null,
   "id": "d26b9f632319ce8c",
   "metadata": {
    "ExecuteTime": {
     "end_time": "2025-04-25T12:06:08.571120Z",
     "start_time": "2025-04-25T12:06:07.349451800Z"
    },
    "collapsed": false
   },
   "outputs": [],
   "source": [
    "ChromeBrowser = webdriver.Chrome(service=service, options=chrome_options)"
   ]
  },
  {
   "cell_type": "code",
   "execution_count": null,
   "id": "462e84752e89a835",
   "metadata": {
    "ExecuteTime": {
     "end_time": "2025-04-25T12:06:08.578703100Z",
     "start_time": "2025-04-25T12:06:08.573120900Z"
    },
    "collapsed": false
   },
   "outputs": [],
   "source": [
    "ChromeBrowser.implicitly_wait(20)"
   ]
  },
  {
   "cell_type": "code",
   "execution_count": null,
   "id": "72ec62ecca2c55c9",
   "metadata": {
    "ExecuteTime": {
     "end_time": "2025-04-25T12:06:08.590190700Z",
     "start_time": "2025-04-25T12:06:08.584800700Z"
    },
    "collapsed": false
   },
   "outputs": [],
   "source": [
    "GSE_PRJ_list = []"
   ]
  },
  {
   "cell_type": "code",
   "execution_count": null,
   "id": "fe83e757cd4990af",
   "metadata": {
    "ExecuteTime": {
     "end_time": "2025-04-25T13:32:18.497091700Z",
     "start_time": "2025-04-25T13:27:16.204947Z"
    },
    "collapsed": false
   },
   "outputs": [],
   "source": [
    "for GSE in GSE_list:\n",
    "    ChromeBrowser.get(\n",
    "        fr'https://www.ncbi.nlm.nih.gov/geo/query/acc.cgi?acc={GSE}')\n",
    "    sleep(10)\n",
    "    links = ChromeBrowser.find_elements(By.TAG_NAME, \"a\")\n",
    "    bioproject_links = [link for link in links if \"PRJ\" in link.text]\n",
    "    BioProject = bioproject_links[0].text\n",
    "    print(f'{GSE}\\t{BioProject}')\n",
    "    SRA_Run_Selector_link = [\n",
    "        link for link in links if \"SRA Run Selector\" in link.text]\n",
    "    if len(SRA_Run_Selector_link) == 0:\n",
    "        GSE_PRJ_list.append((GSE, BioProject, 'No'))\n",
    "        print(\"No SRA Run Selector link found.\")\n",
    "    else:\n",
    "        SRA_Run_Selector_link = SRA_Run_Selector_link[0]\n",
    "        GSE_PRJ_list.append((GSE, BioProject, 'Yes'))\n",
    "        print(\"SRA Run Selector link found.\")\n",
    "        SRA_Run_Selector_link.click()\n",
    "        download_button = ChromeBrowser.find_element(\n",
    "            By.CSS_SELECTOR, '#t-rit-all')\n",
    "        download_button.click()\n",
    "        sleep(5)\n",
    "        shutil.move(os.path.join(download_dir, r'SraRunTable.csv'),\n",
    "                    os.path.join(download_dir, fr'{BioProject}.csv'))"
   ]
  },
  {
   "cell_type": "code",
   "execution_count": null,
   "id": "9cae2a00",
   "metadata": {},
   "outputs": [],
   "source": [
    "GSE_PRJ_list"
   ]
  }
 ],
 "metadata": {
  "kernelspec": {
   "display_name": "dl",
   "language": "python",
   "name": "python3"
  },
  "language_info": {
   "codemirror_mode": {
    "name": "ipython",
    "version": 3
   },
   "file_extension": ".py",
   "mimetype": "text/x-python",
   "name": "python",
   "nbconvert_exporter": "python",
   "pygments_lexer": "ipython3",
   "version": "3.12.11"
  }
 },
 "nbformat": 4,
 "nbformat_minor": 5
}
