{
 "cells": [
  {
   "cell_type": "code",
   "execution_count": null,
   "id": "initial_id",
   "metadata": {
    "ExecuteTime": {
     "end_time": "2025-04-02T02:41:46.317622400Z",
     "start_time": "2025-04-02T02:41:44.589830700Z"
    },
    "collapsed": true
   },
   "outputs": [],
   "source": [
    "import os\n",
    "from glob import glob\n",
    "import pandas as pd\n",
    "import xlwings as xw\n",
    "from tqdm import tqdm\n",
    "from openpyxl import Workbook"
   ]
  },
  {
   "cell_type": "code",
   "execution_count": null,
   "id": "19a7faa770c9f889",
   "metadata": {
    "ExecuteTime": {
     "end_time": "2025-04-02T02:43:02.062962200Z",
     "start_time": "2025-04-02T02:43:02.057454900Z"
    },
    "collapsed": false
   },
   "outputs": [],
   "source": [
    "def low_count_filter(data, min_count=4, min_percentage=0.1):\n",
    "    taxonomy_names = data.index\n",
    "    chosen_list = []\n",
    "    for taxo in taxonomy_names:\n",
    "        taxo_data = data.loc[taxo].tolist()\n",
    "        if len([x for x in taxo_data if x >= min_count]) / len(taxo_data) >= min_percentage:\n",
    "            chosen_list.append(taxo)\n",
    "    return data.loc[chosen_list].copy()"
   ]
  },
  {
   "cell_type": "code",
   "execution_count": null,
   "id": "b8b2209019ffd9c2",
   "metadata": {
    "ExecuteTime": {
     "end_time": "2025-04-02T02:43:07.962680400Z",
     "start_time": "2025-04-02T02:43:07.957173700Z"
    },
    "collapsed": false
   },
   "outputs": [],
   "source": [
    "def get_taxonomy(data, taxo=\"s\"):\n",
    "    all_taxo = data.index.tolist()\n",
    "    selected_taxo = [x for x in all_taxo if \"%s__\" % taxo in x.split(\"|\")[-1]]\n",
    "    selected_data = data.loc[selected_taxo].copy()\n",
    "    # selected_data.index = [x.split(\"%s__\" % taxo)[-1] for x in selected_data.index]\n",
    "    selected_data_sorted = selected_data.loc[selected_data.mean(1).sort_values(ascending=False).index.tolist()]\n",
    "    return selected_data_sorted"
   ]
  },
  {
   "cell_type": "code",
   "execution_count": null,
   "id": "ae38a75b5b90397e",
   "metadata": {
    "ExecuteTime": {
     "end_time": "2025-04-02T02:46:27.192877500Z",
     "start_time": "2025-04-02T02:46:27.191249100Z"
    },
    "collapsed": false
   },
   "outputs": [],
   "source": [
    "bracken_sammary_folder = R\"D:\\Project\\gutDBase\\bracken_summary_GSE\"\n",
    "mpa_combined_folder = R\"D:\\Project\\gutDBase\\mpa_combined\"\n",
    "metadata_folder = R\"D:\\Project\\gutDBase\\metadata\"\n",
    "host = 'human'"
   ]
  },
  {
   "cell_type": "code",
   "execution_count": null,
   "id": "22577c3a",
   "metadata": {},
   "outputs": [],
   "source": [
    "mpa_PRJNA = [os.path.basename(mpa).split('_')[0]\n",
    "             for mpa in glob(fR'{mpa_combined_folder}\\{host}\\*.txt')]\n",
    "\n",
    "metadata_PRJNA = [os.path.basename(meta).split('.')[0] for meta in glob(\n",
    "    fR'{metadata_folder}\\{host}\\*.csv')]\n",
    "\n",
    "common_PRJNA = list(set(mpa_PRJNA) & set(metadata_PRJNA))"
   ]
  },
  {
   "cell_type": "code",
   "execution_count": null,
   "id": "d93a5b55",
   "metadata": {},
   "outputs": [],
   "source": [
    "def process(project: str):\n",
    "    xlsxFile = os.path.join(bracken_sammary_folder, host,\n",
    "                            f\"{project}_summary.xlsx\")\n",
    "    metadataFile = os.path.join(metadata_folder, host, f\"{project}.csv\")\n",
    "    if not os.path.exists(xlsxFile):\n",
    "        wb = Workbook()\n",
    "        wb.save(xlsxFile)\n",
    "\n",
    "    xlapp = xw.App(add_book=False)  # 表示一个程序进程\n",
    "    xlFile = xlapp.books.open(xlsxFile)\n",
    "    mpaData = pd.read_csv(os.path.join(mpa_combined_folder, host,\n",
    "                                       f\"{project}_combined_mpa.txt\"), sep=\"\\t\", index_col=0)\n",
    "    mpaData_filtered = low_count_filter(mpaData)\n",
    "    all_sheets = xlFile.sheets\n",
    "    all_sheets_names = [x.name for x in all_sheets]\n",
    "    if \"metaData\" not in all_sheets_names:\n",
    "        sheet = xlFile.sheets[\"Sheet\"]\n",
    "        sheet.name = \"metaData\"\n",
    "    if \"raw\" not in all_sheets_names:\n",
    "        xlFile.sheets.add(\"raw\", after=\"metaData\")\n",
    "    if \"filtered\" not in all_sheets_names:\n",
    "        xlFile.sheets.add(\"filtered\", after=\"raw\")\n",
    "    # write metadata\n",
    "    metaData = pd.read_csv(metadataFile, index_col=0)\n",
    "    sheet = xlFile.sheets[\"metaData\"]\n",
    "    sheet.clear_contents()\n",
    "    sheet.range(\"A1\").value = metaData\n",
    "    sheet.autofit()\n",
    "    sheet = xlFile.sheets[\"raw\"]\n",
    "    sheet.clear_contents()\n",
    "    sheet.range(\"A1\").value = mpaData\n",
    "    sheet.autofit()\n",
    "    sheet = xlFile.sheets[\"filtered\"]\n",
    "    sheet.clear_contents()\n",
    "    sheet.range(\"A1\").value = mpaData_filtered\n",
    "    sheet.autofit()\n",
    "    all_taxonomy = [\"species\", \"genus\", \"family\", \"order\", \"class\", \"phylum\"]\n",
    "    for i in range(len(all_taxonomy)):\n",
    "        taxonomy = all_taxonomy[i]\n",
    "        after = \"filtered\" if i == 0 else all_taxonomy[i - 1]\n",
    "        if taxonomy not in all_sheets_names:\n",
    "            xlFile.sheets.add(taxonomy, after=after)\n",
    "        mpaData_selected = get_taxonomy(mpaData_filtered, taxonomy[0])\n",
    "        sheet = xlFile.sheets[taxonomy]\n",
    "        sheet.clear_contents()\n",
    "        sheet.range(\"A1\").value = mpaData_selected\n",
    "        sheet.autofit()\n",
    "    sheet = xlFile.sheets[\"metaData\"]\n",
    "    sheet.activate()\n",
    "    xlFile.save()\n",
    "    xlapp.quit()"
   ]
  },
  {
   "cell_type": "code",
   "execution_count": null,
   "id": "7dd7e2c8",
   "metadata": {},
   "outputs": [],
   "source": [
    "for project in common_PRJNA:\n",
    "    process(project)"
   ]
  }
 ],
 "metadata": {
  "kernelspec": {
   "display_name": "dl",
   "language": "python",
   "name": "python3"
  },
  "language_info": {
   "codemirror_mode": {
    "name": "ipython",
    "version": 3
   },
   "file_extension": ".py",
   "mimetype": "text/x-python",
   "name": "python",
   "nbconvert_exporter": "python",
   "pygments_lexer": "ipython3",
   "version": "3.12.3"
  }
 },
 "nbformat": 4,
 "nbformat_minor": 5
}
