{
 "cells": [
  {
   "cell_type": "code",
   "execution_count": null,
   "id": "e012eba5",
   "metadata": {},
   "outputs": [],
   "source": [
    "import pandas as pd\n",
    "\n",
    "host = 'human'\n",
    "\n",
    "filename = Rf\"D:\\Project\\gutDBase\\debias\\human\\debias_micro_LDA_merged_Expression profiling by high throughput sequencing.csv\"\n",
    "df = pd.read_csv(filename)\n",
    "\n",
    "# Set the 'id' column to be an incrementing number starting from 0.\n",
    "df['id'] = range(len(df))\n",
    "\n",
    "# Write to the original file, overwriting the original content.\n",
    "df.to_csv(filename, index=False)"
   ]
  },
  {
   "cell_type": "code",
   "execution_count": 42,
   "id": "743b2572",
   "metadata": {},
   "outputs": [],
   "source": [
    "df.columns = ['id', 'cell_type1', 'cell_type2', 'correlation', 'accession']"
   ]
  },
  {
   "cell_type": "code",
   "execution_count": 43,
   "id": "fb7c0f88",
   "metadata": {},
   "outputs": [],
   "source": [
    "df.to_csv(filename, index=False)"
   ]
  }
 ],
 "metadata": {
  "kernelspec": {
   "display_name": "dl",
   "language": "python",
   "name": "python3"
  },
  "language_info": {
   "codemirror_mode": {
    "name": "ipython",
    "version": 3
   },
   "file_extension": ".py",
   "mimetype": "text/x-python",
   "name": "python",
   "nbconvert_exporter": "python",
   "pygments_lexer": "ipython3",
   "version": "3.12.3"
  }
 },
 "nbformat": 4,
 "nbformat_minor": 5
}
