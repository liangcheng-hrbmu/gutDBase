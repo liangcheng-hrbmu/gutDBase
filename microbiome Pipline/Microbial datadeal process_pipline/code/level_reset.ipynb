{
 "cells": [
  {
   "cell_type": "code",
   "execution_count": 1,
   "id": "79b07797",
   "metadata": {},
   "outputs": [],
   "source": [
    "import pandas as pd"
   ]
  },
  {
   "cell_type": "code",
   "execution_count": null,
   "id": "9a817b81",
   "metadata": {},
   "outputs": [],
   "source": [
    "df = pd.read_csv(R\"D:\\Project\\gutDBase\\debias\\human\\debias_disease_abu_LDA_species_Expression profiling by high throughput sequencing.csv\")"
   ]
  },
  {
   "cell_type": "code",
   "execution_count": null,
   "id": "873006bc",
   "metadata": {},
   "outputs": [],
   "source": [
    "prefix2level = {\n",
    "    \"k\": \"kingdom\",\n",
    "    \"p\": \"phylum\",\n",
    "    \"c\": \"class\",\n",
    "    \"o\": \"order\",\n",
    "    \"f\": \"family\",\n",
    "    \"g\": \"genus\",\n",
    "    \"s\": \"species\"\n",
    "}\n",
    "\n",
    "def extract_level(species):\n",
    "    last_part = species.split(\"|\")[-1]\n",
    "    prefix = last_part.split(\"__\", 1)[0]\n",
    "    return prefix2level.get(prefix, \"unknown\")\n",
    "\n",
    "df[\"level\"] = df[\"species\"].apply(extract_level)"
   ]
  },
  {
   "cell_type": "code",
   "execution_count": null,
   "id": "edba3cdd",
   "metadata": {},
   "outputs": [],
   "source": [
    "df.to_csv(R\"D:\\Project\\gutDBase\\debias\\human\\debias_disease_abu_LDA_merged_Expression profiling by high throughput sequencing.csv\",index=False)"
   ]
  }
 ],
 "metadata": {
  "kernelspec": {
   "display_name": "dl",
   "language": "python",
   "name": "python3"
  },
  "language_info": {
   "codemirror_mode": {
    "name": "ipython",
    "version": 3
   },
   "file_extension": ".py",
   "mimetype": "text/x-python",
   "name": "python",
   "nbconvert_exporter": "python",
   "pygments_lexer": "ipython3",
   "version": "3.12.3"
  }
 },
 "nbformat": 4,
 "nbformat_minor": 5
}
