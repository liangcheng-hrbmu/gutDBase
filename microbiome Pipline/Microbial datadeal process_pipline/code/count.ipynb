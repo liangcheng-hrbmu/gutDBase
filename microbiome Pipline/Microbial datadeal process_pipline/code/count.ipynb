{
 "cells": [
  {
   "cell_type": "code",
   "execution_count": null,
   "id": "59f7ed47",
   "metadata": {},
   "outputs": [],
   "source": [
    "import pandas as pd\n",
    "\n",
    "host = 'mouse'\n",
    "\n",
    "# Read each CSV file, extract the 'sample' column, and remove duplicates.\n",
    "df1 = pd.read_csv(Rf\"D:\\Project\\gutDBase\\Abundance_barplot_metaclass_csv\\{host}\\combined_microbiome_data_phylum_unique.csv\")[\n",
    "    ['accession']].drop_duplicates()\n",
    "df2 = pd.read_csv(Rf\"D:\\Project\\gutDBase\\Alpha_diversity_metaclass_csv\\{host}\\alpha_diversity_data.csv\")[\n",
    "    ['accession']].drop_duplicates()\n",
    "df3 = pd.read_csv(Rf\"D:\\Project\\gutDBase\\Beta_diversity_metaclass_csv\\{host}\\combined_beta_diversity_data.csv\")[\n",
    "    ['accession']].drop_duplicates()\n",
    "df4 = pd.read_csv(Rf\"D:\\Project\\gutDBase\\Microbiome_host_association_metaclass_csv\\{host}\\merged_microbiome_host_association_data_mouse.csv\")[\n",
    "    ['accession']].drop_duplicates()\n",
    "df5 = pd.read_csv(Rf\"D:\\Project\\gutDBase\\Microbiome_host_association_metaclass_csv\\{host}\\LDA_score_data_species.csv\")[\n",
    "    ['accession']].drop_duplicates()\n",
    "# Label each sample column.\n",
    "df1['Abundance'] = 1\n",
    "df2['Alpha Diversity'] = 1\n",
    "df3['Beta Diversity'] = 1\n",
    "df4['Microbiome Host Association'] = 1\n",
    "df5['LDA Score'] = 1\n",
    "\n",
    "# Merge three data frames (outer join)\n",
    "merged_df = pd.merge(df1, df2, on='accession', how='outer')\n",
    "merged_df = pd.merge(merged_df, df3, on='accession', how='outer')\n",
    "merged_df = pd.merge(merged_df, df4, on='accession', how='outer')\n",
    "merged_df = pd.merge(merged_df, df5, on='accession', how='outer')\n",
    "\n",
    "# Fill missing values with 0\n",
    "merged_df = merged_df.fillna(0).astype(\n",
    "    {'Abundance': int, 'Alpha Diversity': int, 'Beta Diversity': int, 'Microbiome Host Association': int, 'LDA Score': int})\n",
    "\n",
    "# Can be saved as a new CSV file.\n",
    "merged_df.to_csv(R'D:\\Project\\gutDBase\\summary_mouse.csv', index=False)"
   ]
  }
 ],
 "metadata": {
  "kernelspec": {
   "display_name": "dl",
   "language": "python",
   "name": "python3"
  },
  "language_info": {
   "codemirror_mode": {
    "name": "ipython",
    "version": 3
   },
   "file_extension": ".py",
   "mimetype": "text/x-python",
   "name": "python",
   "nbconvert_exporter": "python",
   "pygments_lexer": "ipython3",
   "version": "3.12.3"
  }
 },
 "nbformat": 4,
 "nbformat_minor": 5
}
