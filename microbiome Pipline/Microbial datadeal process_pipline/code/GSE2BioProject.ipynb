{
 "cells": [
  {
   "cell_type": "code",
   "execution_count": null,
   "id": "initial_id",
   "metadata": {
    "ExecuteTime": {
     "end_time": "2025-04-25T12:06:07.345081300Z",
     "start_time": "2025-04-25T12:06:07.245769800Z"
    },
    "collapsed": true
   },
   "outputs": [],
   "source": [
    "from time import sleep\n",
    "\n",
    "from selenium import webdriver\n",
    "from selenium.webdriver.common.by import By\n",
    "from selenium.webdriver.chrome.options import Options\n",
    "import os\n",
    "import shutil"
   ]
  },
  {
   "cell_type": "code",
   "execution_count": null,
   "id": "14130c5cd649683c",
   "metadata": {
    "ExecuteTime": {
     "end_time": "2025-04-25T12:06:07.350451900Z",
     "start_time": "2025-04-25T12:06:07.346944Z"
    },
    "collapsed": false
   },
   "outputs": [],
   "source": [
    "\n",
    "download_dir = R\"D:\\Project\\gutDBase\\SRR_Acc_List\\human\"\n",
    "\n",
    "\n",
    "chrome_options = Options()\n",
    "prefs = {\n",
    "    \"download.default_directory\": download_dir,\n",
    "    \"download.prompt_for_download\": False,\n",
    "    \"download.directory_upgrade\": True\n",
    "}\n",
    "chrome_options.add_experimental_option(\"prefs\", prefs)"
   ]
  },
  {
   "cell_type": "code",
   "execution_count": null,
   "id": "d26b9f632319ce8c",
   "metadata": {
    "ExecuteTime": {
     "end_time": "2025-04-25T12:06:08.571120Z",
     "start_time": "2025-04-25T12:06:07.349451800Z"
    },
    "collapsed": false
   },
   "outputs": [],
   "source": [
    "ChromeDriver = webdriver.Chrome(options=chrome_options)"
   ]
  },
  {
   "cell_type": "code",
   "execution_count": null,
   "id": "462e84752e89a835",
   "metadata": {
    "ExecuteTime": {
     "end_time": "2025-04-25T12:06:08.578703100Z",
     "start_time": "2025-04-25T12:06:08.573120900Z"
    },
    "collapsed": false
   },
   "outputs": [],
   "source": [
    "ChromeDriver.implicitly_wait(20)"
   ]
  },
  {
   "cell_type": "code",
   "execution_count": null,
   "id": "68eecf9ba837aa5c",
   "metadata": {
    "ExecuteTime": {
     "end_time": "2025-04-25T13:27:13.812640600Z",
     "start_time": "2025-04-25T13:27:13.807134Z"
    },
    "collapsed": false
   },
   "outputs": [],
   "source": [
    "GSE_list = [\n",
    "            'GSE145358', 'GSE207243', 'GSE103992', 'GSE131705', 'GSE146190', 'GSE102993', 'GSE113492', 'GSE123649',\n",
    "            'GSE217915', 'GSE166869', 'GSE168759', 'GSE36701', 'GSE146853', 'GSE63379', 'GSE13367', 'GSE14841',\n",
    "            'GSE9579', 'GSE180202'\n",
    "            ]"
   ]
  },
  {
   "cell_type": "code",
   "execution_count": null,
   "id": "72ec62ecca2c55c9",
   "metadata": {
    "ExecuteTime": {
     "end_time": "2025-04-25T12:06:08.590190700Z",
     "start_time": "2025-04-25T12:06:08.584800700Z"
    },
    "collapsed": false
   },
   "outputs": [],
   "source": [
    "GSE_PRJ_list = []"
   ]
  },
  {
   "cell_type": "code",
   "execution_count": null,
   "id": "fe83e757cd4990af",
   "metadata": {
    "ExecuteTime": {
     "end_time": "2025-04-25T13:32:18.497091700Z",
     "start_time": "2025-04-25T13:27:16.204947Z"
    },
    "collapsed": false
   },
   "outputs": [],
   "source": [
    "for GSE in GSE_list:\n",
    "    ChromeDriver.get(fr'https://www.ncbi.nlm.nih.gov/geo/query/acc.cgi?acc={GSE}')\n",
    "    sleep(10)\n",
    "    links = ChromeDriver.find_elements(By.TAG_NAME, \"a\")\n",
    "    bioproject_links = [link for link in links if \"PRJ\" in link.text]\n",
    "    BioProject = bioproject_links[0].text\n",
    "    print(BioProject)\n",
    "    SRA_Run_Selector_link = [link for link in links if \"SRA Run Selector\" in link.text]\n",
    "    if len(SRA_Run_Selector_link) == 0:\n",
    "        GSE_PRJ_list.append((GSE, BioProject, 'No'))\n",
    "        print(\"No SRA Run Selector link found.\")\n",
    "    else:\n",
    "        SRA_Run_Selector_link = SRA_Run_Selector_link[0]\n",
    "        GSE_PRJ_list.append((GSE, BioProject, 'Yes'))\n",
    "        print(\"SRA Run Selector link found.\")\n",
    "        SRA_Run_Selector_link.click()\n",
    "        download_button = ChromeDriver.find_element(By.CSS_SELECTOR, '#t-acclist-all')\n",
    "        download_button.click()\n",
    "        sleep(3)\n",
    "        shutil.move(os.path.join(download_dir, r'SRR_Acc_List.txt'), os.path.join(download_dir, fr'{BioProject}.txt'))"
   ]
  },
  {
   "cell_type": "code",
   "execution_count": null,
   "id": "c1257f97d6abca5a",
   "metadata": {
    "ExecuteTime": {
     "end_time": "2025-04-25T13:35:02.439371Z",
     "start_time": "2025-04-25T13:35:02.436648400Z"
    },
    "collapsed": false
   },
   "outputs": [],
   "source": [
    "GSE_PRJ_list"
   ]
  },
  {
   "cell_type": "code",
   "execution_count": null,
   "id": "232a18d29bc5e4ad",
   "metadata": {
    "ExecuteTime": {
     "end_time": "2025-04-25T13:47:32.536455700Z",
     "start_time": "2025-04-25T13:47:32.533726700Z"
    },
    "collapsed": false
   },
   "outputs": [],
   "source": [
    "with open(os.path.join(download_dir, 'GSE_PRJ_list.txt'), 'w') as f:\n",
    "    for GSE, BioProject, SRA_Run_Selector in GSE_PRJ_list:\n",
    "        f.write(f'{GSE}\\t{BioProject}\\t{SRA_Run_Selector}\\n')"
   ]
  }
 ],
 "metadata": {
  "kernelspec": {
   "display_name": "dl",
   "language": "python",
   "name": "python3"
  },
  "language_info": {
   "codemirror_mode": {
    "name": "ipython",
    "version": 2
   },
   "file_extension": ".py",
   "mimetype": "text/x-python",
   "name": "python",
   "nbconvert_exporter": "python",
   "pygments_lexer": "ipython2",
   "version": "3.12.3"
  }
 },
 "nbformat": 4,
 "nbformat_minor": 5
}
