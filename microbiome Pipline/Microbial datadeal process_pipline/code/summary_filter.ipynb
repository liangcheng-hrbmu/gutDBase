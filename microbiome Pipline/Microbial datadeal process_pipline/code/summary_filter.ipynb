{
 "cells": [
  {
   "cell_type": "code",
   "execution_count": null,
   "id": "3f7d2e50",
   "metadata": {},
   "outputs": [],
   "source": [
    "from openpyxl import load_workbook, Workbook\n",
    "\n",
    "\n",
    "def filter_sheets(input_file, output_file):\n",
    "    # Read the original workbook\n",
    "    wb = load_workbook(filename=input_file)\n",
    "    sheetnames = wb.sheetnames\n",
    "\n",
    "    # Create a new workbook\n",
    "    new_wb = Workbook()\n",
    "    # A sheet will be created by default, and we will use it to replace the data of the first sheet.\n",
    "    new_wb.remove(new_wb.active)\n",
    "\n",
    "    # Keep the first sheet unchanged, just copy it directly.\n",
    "    first_sheet = wb[sheetnames[0]]\n",
    "    new_sheet = new_wb.create_sheet(title=first_sheet.title)\n",
    "    for row in first_sheet.iter_rows(values_only=True):\n",
    "        new_sheet.append(row)\n",
    "\n",
    "    # Process other sheets\n",
    "    for sheetname in sheetnames[1:]:\n",
    "        sheet = wb[sheetname]\n",
    "        new_sheet = new_wb.create_sheet(title=sheetname)\n",
    "        rows = list(sheet.iter_rows(values_only=True))\n",
    "\n",
    "        if not rows:\n",
    "            continue\n",
    "\n",
    "        # Add title row\n",
    "        new_sheet.append(rows[0])\n",
    "\n",
    "        # Filter the rows that meet the criteria\n",
    "        for row in rows[1:]:\n",
    "            if row[0] and str(row[0]).startswith(\"k__Bacteria\"):\n",
    "                new_sheet.append(row)\n",
    "\n",
    "    # Save to a new file\n",
    "    new_wb.save(output_file)"
   ]
  },
  {
   "cell_type": "code",
   "execution_count": 2,
   "id": "bb5880d1",
   "metadata": {},
   "outputs": [],
   "source": [
    "from glob import glob\n",
    "import os\n",
    "bracken_sammary_folder = R\"D:\\Project\\gutDBase\\bracken_summary_GSE\"\n",
    "bracken_sammary_filter_folder = R\"D:\\Project\\gutDBase\\bracken_summary_GSE_filtered\"\n",
    "host = 'mouse'\n",
    "os.makedirs(os.path.join(bracken_sammary_filter_folder, host), exist_ok=True)"
   ]
  },
  {
   "cell_type": "code",
   "execution_count": 3,
   "id": "3fedcbf9",
   "metadata": {},
   "outputs": [],
   "source": [
    "for file in glob(os.path.join(bracken_sammary_folder, host, '*')):\n",
    "    filter_sheets(file, os.path.join(\n",
    "        bracken_sammary_filter_folder, host, os.path.basename(file)))"
   ]
  }
 ],
 "metadata": {
  "kernelspec": {
   "display_name": "dl",
   "language": "python",
   "name": "python3"
  },
  "language_info": {
   "codemirror_mode": {
    "name": "ipython",
    "version": 3
   },
   "file_extension": ".py",
   "mimetype": "text/x-python",
   "name": "python",
   "nbconvert_exporter": "python",
   "pygments_lexer": "ipython3",
   "version": "3.12.3"
  }
 },
 "nbformat": 4,
 "nbformat_minor": 5
}
