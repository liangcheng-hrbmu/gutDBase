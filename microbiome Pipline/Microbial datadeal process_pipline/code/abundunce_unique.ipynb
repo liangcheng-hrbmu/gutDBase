{
 "cells": [
  {
   "cell_type": "code",
   "execution_count": null,
   "id": "d8ceff3b",
   "metadata": {},
   "outputs": [],
   "source": [
    "import pandas as pd\n",
    "\n",
    "host = 'mouse'\n",
    "level = 'phylum'\n",
    "\n",
    "# Read the original CSV file\n",
    "df = pd.read_csv(Rf\"D:\\Project\\gutDBase\\debias\\{host}\\debias_disease_abu_barplot.csv\", sep=',')\n",
    "\n",
    "# Group by specified column and calculate the average value of numbers\n",
    "grouped = df.groupby(['sample', 'microbial_level', 'celltype', 'accession'], as_index=False)['number'].mean()\n",
    "\n",
    "# Add a new ID column and increment from 0\n",
    "grouped.insert(0, 'id', range(len(grouped)))\n",
    "\n",
    "# Write a new CSV file\n",
    "grouped.to_csv(Rf\"D:\\Project\\gutDBase\\debias\\{host}\\debias_disease_abu_barplot.csv_unique.csv\", sep=',', header=True, index=False)"
   ]
  }
 ],
 "metadata": {
  "kernelspec": {
   "display_name": "dl",
   "language": "python",
   "name": "python3"
  },
  "language_info": {
   "codemirror_mode": {
    "name": "ipython",
    "version": 3
   },
   "file_extension": ".py",
   "mimetype": "text/x-python",
   "name": "python",
   "nbconvert_exporter": "python",
   "pygments_lexer": "ipython3",
   "version": "3.12.3"
  }
 },
 "nbformat": 4,
 "nbformat_minor": 5
}
