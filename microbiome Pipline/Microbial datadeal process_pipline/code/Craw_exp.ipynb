{
 "cells": [
  {
   "cell_type": "code",
   "execution_count": 24,
   "id": "f5f7896e",
   "metadata": {},
   "outputs": [],
   "source": [
    "from time import sleep\n",
    "from selenium import webdriver\n",
    "from selenium.webdriver.common.by import By\n",
    "from selenium.webdriver.chrome.options import Options\n",
    "from selenium.webdriver.chrome.service import Service\n",
    "import os\n",
    "import shutil\n",
    "from glob import glob"
   ]
  },
  {
   "cell_type": "code",
   "execution_count": null,
   "id": "36be6b03",
   "metadata": {},
   "outputs": [],
   "source": [
    "chromedriver_path = R\"D:\\Plugin\\chromedriver.exe\"\n",
    "# Set download path\n",
    "host = R\"human\"\n",
    "download_dir = Rf\"D:\\Project\\gutDBase\\exp\\{host}\"\n",
    "os.makedirs(download_dir, exist_ok=True)\n",
    "\n",
    "# Initialize Service\n",
    "service = Service(chromedriver_path)\n",
    "\n",
    "# Set up Chrome download settings\n",
    "chrome_options = Options()\n",
    "prefs = {\n",
    "    \"download.default_directory\": download_dir,  # Set download path\n",
    "    \"download.prompt_for_download\": False,  # Disable the download popup every time\n",
    "    \"download.directory_upgrade\": True\n",
    "}\n",
    "chrome_options.add_experimental_option(\"prefs\", prefs)\n",
    "chrome_options.add_argument(\"--disable-features=HttpsUpgrades\")"
   ]
  },
  {
   "cell_type": "code",
   "execution_count": 41,
   "id": "23b7471c",
   "metadata": {},
   "outputs": [],
   "source": [
    "ChromeBrowser = webdriver.Chrome(service=service, options=chrome_options)\n",
    "ChromeBrowser.implicitly_wait(20)"
   ]
  },
  {
   "cell_type": "code",
   "execution_count": 42,
   "id": "e5d81fcf",
   "metadata": {},
   "outputs": [],
   "source": [
    "ChromeBrowser.get(R'http://bio-computing.hrbmu.edu.cn/gutDBase/#/download')"
   ]
  },
  {
   "cell_type": "code",
   "execution_count": null,
   "id": "eec545a4",
   "metadata": {},
   "outputs": [],
   "source": []
  }
 ],
 "metadata": {
  "kernelspec": {
   "display_name": "dl",
   "language": "python",
   "name": "python3"
  },
  "language_info": {
   "codemirror_mode": {
    "name": "ipython",
    "version": 3
   },
   "file_extension": ".py",
   "mimetype": "text/x-python",
   "name": "python",
   "nbconvert_exporter": "python",
   "pygments_lexer": "ipython3",
   "version": "3.12.3"
  }
 },
 "nbformat": 4,
 "nbformat_minor": 5
}
