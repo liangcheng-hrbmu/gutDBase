{
 "cells": [
  {
   "cell_type": "code",
   "execution_count": null,
   "id": "20b8e09c",
   "metadata": {},
   "outputs": [],
   "source": [
    "import pandas as pd\n",
    "import glob\n",
    "import os\n",
    "\n",
    "host = 'mouse'\n",
    "\n",
    "# Set your file path\n",
    "file_paths = glob.glob(Rf\"D:\\Project\\gutDBase\\debias\\mouse\\debias_host_gene_association_*_Expression profiling by high throughput sequencing.csv\")\n",
    "\n",
    "all_dfs = []\n",
    "\n",
    "for path in file_paths:\n",
    "    # Read data\n",
    "    df = pd.read_csv(path)\n",
    "    # # Get the filename\n",
    "    # file_name = os.path.basename(path)\n",
    "    # # Add a column to the data to indicate the hierarchy.\n",
    "    # df['level'] = file_name.split('_')[-1].split('.')[0]\n",
    "    \n",
    "    all_dfs.append(df)\n",
    "\n",
    "# Merge all dataframes\n",
    "merged_df = pd.concat(all_dfs, ignore_index=True)"
   ]
  },
  {
   "cell_type": "code",
   "execution_count": null,
   "id": "d0454844",
   "metadata": {},
   "outputs": [],
   "source": [
    "file_paths"
   ]
  },
  {
   "cell_type": "code",
   "execution_count": null,
   "id": "a924b9c3",
   "metadata": {},
   "outputs": [],
   "source": [
    "merged_df.columns = [\"id\",\"cell_type1\",\"cell_type2\",\"correlation\",\"accession\",\"level\"]"
   ]
  },
  {
   "cell_type": "code",
   "execution_count": null,
   "id": "b1682afb",
   "metadata": {},
   "outputs": [],
   "source": [
    "merged_df.head()"
   ]
  },
  {
   "cell_type": "code",
   "execution_count": null,
   "id": "9dc50c88",
   "metadata": {},
   "outputs": [],
   "source": [
    "merged_df.to_csv(Rf\"D:\\Project\\gutDBase\\debias\\mouse\\debias_host_gene_association_merged_Expression profiling by high throughput sequencing.csv\", index=False)"
   ]
  },
  {
   "cell_type": "code",
   "execution_count": null,
   "id": "5555c3f8",
   "metadata": {},
   "outputs": [],
   "source": []
  }
 ],
 "metadata": {
  "kernelspec": {
   "display_name": "dl",
   "language": "python",
   "name": "python3"
  },
  "language_info": {
   "codemirror_mode": {
    "name": "ipython",
    "version": 3
   },
   "file_extension": ".py",
   "mimetype": "text/x-python",
   "name": "python",
   "nbconvert_exporter": "python",
   "pygments_lexer": "ipython3",
   "version": "3.12.3"
  }
 },
 "nbformat": 4,
 "nbformat_minor": 5
}
