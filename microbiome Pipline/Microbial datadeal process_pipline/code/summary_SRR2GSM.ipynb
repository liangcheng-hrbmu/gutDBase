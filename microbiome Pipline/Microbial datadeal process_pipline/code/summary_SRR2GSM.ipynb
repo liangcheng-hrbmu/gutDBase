{
 "cells": [
  {
   "cell_type": "code",
   "execution_count": null,
   "id": "3325478f",
   "metadata": {},
   "outputs": [],
   "source": [
    "import os\n",
    "from glob import glob\n",
    "import pandas as pd\n",
    "import xlwings as xw\n",
    "from tqdm import tqdm\n",
    "from openpyxl import Workbook"
   ]
  },
  {
   "cell_type": "code",
   "execution_count": null,
   "id": "f42904af",
   "metadata": {},
   "outputs": [],
   "source": [
    "bracken_sammary_folder = R\"D:\\Project\\gutDBase\\bracken_summary_GSE\"\n",
    "mpa_combined_folder = R\"D:\\Project\\gutDBase\\mpa_combined\"\n",
    "metadata_folder = R\"D:\\Project\\gutDBase\\metadata\"\n",
    "host = 'human'\n",
    "GSE_PRJ = fR\"D:\\Project\\gutDBase\\SRR_Acc_List\\{host}\\GSE_PRJ_list.txt\"\n",
    "os.makedirs(os.path.join(bracken_sammary_folder, host), exist_ok=True)"
   ]
  },
  {
   "cell_type": "code",
   "execution_count": null,
   "id": "5ec140e3",
   "metadata": {},
   "outputs": [],
   "source": [
    "mpa_PRJNA = [os.path.basename(mpa).split('_')[0]\n",
    "             for mpa in glob(fR'{mpa_combined_folder}\\{host}\\*.txt')]\n",
    "\n",
    "metadata_PRJNA = [os.path.basename(meta).split('.')[0] for meta in glob(\n",
    "    fR'{metadata_folder}\\{host}\\*.csv')]\n",
    "\n",
    "common_PRJNA = list(set(mpa_PRJNA) & set(metadata_PRJNA))"
   ]
  },
  {
   "cell_type": "code",
   "execution_count": null,
   "id": "780e8d74",
   "metadata": {},
   "outputs": [],
   "source": [
    "GSE_PRJ_df = pd.read_table(GSE_PRJ,sep='\\t',header=None)"
   ]
  },
  {
   "cell_type": "code",
   "execution_count": null,
   "id": "ea7e8ac2",
   "metadata": {},
   "outputs": [],
   "source": [
    "def low_count_filter(data, min_count=4, min_percentage=0.1):\n",
    "    taxonomy_names = data.index\n",
    "    chosen_list = []\n",
    "    for taxo in taxonomy_names:\n",
    "        taxo_data = data.loc[taxo].tolist()\n",
    "        if len([x for x in taxo_data if x >= min_count]) / len(taxo_data) >= min_percentage:\n",
    "            chosen_list.append(taxo)\n",
    "    return data.loc[chosen_list].copy()"
   ]
  },
  {
   "cell_type": "code",
   "execution_count": null,
   "id": "231af95b",
   "metadata": {},
   "outputs": [],
   "source": [
    "def get_taxonomy(data, taxo=\"s\"):\n",
    "    all_taxo = data.index.tolist()\n",
    "    selected_taxo = [x for x in all_taxo if \"%s__\" % taxo in x.split(\"|\")[-1]]\n",
    "    selected_data = data.loc[selected_taxo].copy()\n",
    "    # selected_data.index = [x.split(\"%s__\" % taxo)[-1] for x in selected_data.index]\n",
    "    selected_data_sorted = selected_data.loc[selected_data.mean(1).sort_values(ascending=False).index.tolist()]\n",
    "    return selected_data_sorted"
   ]
  },
  {
   "cell_type": "code",
   "execution_count": null,
   "id": "23854b6d",
   "metadata": {},
   "outputs": [],
   "source": [
    "test = pd.read_csv(R\"D:\\Project\\gutDBase\\metadata\\human\\PRJNA200709.csv\", index_col=0)"
   ]
  },
  {
   "cell_type": "code",
   "execution_count": null,
   "id": "8e6a036d",
   "metadata": {},
   "outputs": [],
   "source": [
    "def process(project: str):\n",
    "    xlsxFile = os.path.join(bracken_sammary_folder, host,\n",
    "                            f\"{GSE_PRJ_df[GSE_PRJ_df[1] == project][0].iloc[0]}_summary.xlsx\")\n",
    "    metadataFile = os.path.join(metadata_folder, host, f\"{project}.csv\")\n",
    "    \n",
    "    if not os.path.exists(xlsxFile):\n",
    "        wb = Workbook()\n",
    "        wb.save(xlsxFile)\n",
    "\n",
    "    xlapp = xw.App(add_book=False, visible=True)\n",
    "    xlFile = xlapp.books.open(xlsxFile)\n",
    "    \n",
    "    # Read data\n",
    "    mpaData = pd.read_csv(os.path.join(mpa_combined_folder, host, f\"{project}_combined_mpa.txt\"), sep=\"\\t\", index_col=0)\n",
    "    mpaData_filtered = low_count_filter(mpaData)\n",
    "    \n",
    "    # Read the metadata and ensure that the 'Run' column is a regular column, not an index column.\n",
    "    metaData = pd.read_csv(metadataFile, index_col=None)\n",
    "    \n",
    "    # Create a mapping dictionary from SRR to GSM\n",
    "    srr_to_gsm = dict(zip(metaData['Run'], metaData['GEO_Accession (exp)']))  # 'Run' 为 SRR 号，'GEO_Accession (exp)' 为 GSM 号\n",
    "    \n",
    "    # Replace SRR number with GSM number\n",
    "    mpaData_filtered = mpaData_filtered.rename(columns=lambda col: srr_to_gsm.get(col, col) if col in srr_to_gsm else col)\n",
    "    mpaData = mpaData.rename(columns=lambda col: srr_to_gsm.get(col, col) if col in srr_to_gsm else col)\n",
    "    \n",
    "    # Check and add the worksheet\n",
    "    all_sheets = xlFile.sheets\n",
    "    all_sheets_names = [x.name for x in all_sheets]\n",
    "    \n",
    "    if \"metaData\" not in all_sheets_names:\n",
    "        sheet = xlFile.sheets[\"Sheet\"]\n",
    "        sheet.name = \"metaData\"\n",
    "    if \"raw\" not in all_sheets_names:\n",
    "        xlFile.sheets.add(\"raw\", after=\"metaData\")\n",
    "    if \"filtered\" not in all_sheets_names:\n",
    "        xlFile.sheets.add(\"filtered\", after=\"raw\")\n",
    "    \n",
    "    # Write in metadata\n",
    "    sheet = xlFile.sheets[\"metaData\"]\n",
    "    sheet.clear_contents()\n",
    "    metaData = pd.read_csv(metadataFile, index_col=0)\n",
    "    sheet.range(\"A1\").value = metaData\n",
    "    sheet.autofit()\n",
    "\n",
    "    sheet = xlFile.sheets[\"raw\"]\n",
    "    sheet.clear_contents()\n",
    "    sheet.range(\"A1\").value = mpaData\n",
    "    sheet.autofit()\n",
    "\n",
    "    sheet = xlFile.sheets[\"filtered\"]\n",
    "    sheet.clear_contents()\n",
    "    sheet.range(\"A1\").value = mpaData_filtered\n",
    "    sheet.autofit()\n",
    "    \n",
    "    # Process data of various classification levels\n",
    "    all_taxonomy = [\"species\", \"genus\", \"family\", \"order\", \"class\", \"phylum\"]\n",
    "    for i in range(len(all_taxonomy)):\n",
    "        taxonomy = all_taxonomy[i]\n",
    "        after = \"filtered\" if i == 0 else all_taxonomy[i - 1]\n",
    "        \n",
    "        if taxonomy not in all_sheets_names:\n",
    "            xlFile.sheets.add(taxonomy, after=after)\n",
    "        \n",
    "        mpaData_selected = get_taxonomy(mpaData_filtered, taxonomy[0])\n",
    "        \n",
    "        sheet = xlFile.sheets[taxonomy]\n",
    "        sheet.clear_contents()\n",
    "        sheet.range(\"A1\").value = mpaData_selected\n",
    "        sheet.autofit()\n",
    "\n",
    "    sheet = xlFile.sheets[\"metaData\"]\n",
    "    sheet.activate()\n",
    "    xlFile.save()\n",
    "    xlapp.quit()"
   ]
  },
  {
   "cell_type": "code",
   "execution_count": null,
   "id": "45c0f232",
   "metadata": {},
   "outputs": [],
   "source": [
    "# Execute processing\n",
    "for project in common_PRJNA:\n",
    "    process(project)"
   ]
  }
 ],
 "metadata": {
  "kernelspec": {
   "display_name": "dl",
   "language": "python",
   "name": "python3"
  },
  "language_info": {
   "codemirror_mode": {
    "name": "ipython",
    "version": 3
   },
   "file_extension": ".py",
   "mimetype": "text/x-python",
   "name": "python",
   "nbconvert_exporter": "python",
   "pygments_lexer": "ipython3",
   "version": "3.12.3"
  }
 },
 "nbformat": 4,
 "nbformat_minor": 5
}
